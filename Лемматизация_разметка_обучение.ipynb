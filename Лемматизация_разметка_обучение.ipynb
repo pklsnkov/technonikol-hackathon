{
 "cells": [
  {
   "cell_type": "code",
   "execution_count": null,
   "id": "9be016d1",
   "metadata": {},
   "outputs": [],
   "source": [
    "import pandas as pd\n",
    "import numpy as np\n",
    "\n",
    "from sklearn.feature_extraction.text import TfidfVectorizer\n",
    "from sklearn.metrics.pairwise import cosine_similarity\n",
    "from natasha import Segmenter, MorphVocab, NewsEmbedding, NewsMorphTagger, Doc\n",
    "\n",
    "from sentence_transformers import SentenceTransformer\n",
    "from catboost import CatBoostRegressor\n",
    "from sklearn.preprocessing import StandardScaler\n",
    "from sklearn.model_selection import train_test_split\n",
    "from sklearn.metrics import mean_squared_error, r2_score\n",
    "from sklearn.metrics import classification_report\n",
    "from catboost import CatBoostClassifier"
   ]
  },
  {
   "cell_type": "markdown",
   "id": "a6b549e2",
   "metadata": {},
   "source": [
    "# Лемматизация"
   ]
  },
  {
   "cell_type": "code",
   "execution_count": 2,
   "id": "12890068",
   "metadata": {},
   "outputs": [],
   "source": [
    "df=pd.read_excel('Проверка на дубли (внутри как полное совпадение, так и частичное).xlsx')"
   ]
  },
  {
   "cell_type": "code",
   "execution_count": 3,
   "id": "b86be891",
   "metadata": {},
   "outputs": [],
   "source": [
    "df = df.drop(columns=[\"Номер\", \"Статус\"])\n",
    "df = df.assign(Предложения=lambda x: (x['Название'] + ' ' + x['Описание']).str.lower())\n",
    "df=df.drop(columns=['Название', 'Описание'])"
   ]
  },
  {
   "cell_type": "code",
   "execution_count": 4,
   "id": "08ea818e",
   "metadata": {},
   "outputs": [],
   "source": [
    "orig_df = df['Предложения'].astype(str).tolist()  # Все предложения как есть\n",
    "orig_df = [s.replace(\"\\n\",\"\").replace(\"\\t\",\" \") for s in orig_df]\n",
    "orig_df = pd.DataFrame(orig_df)"
   ]
  },
  {
   "cell_type": "code",
   "execution_count": 5,
   "id": "5c905ffa",
   "metadata": {},
   "outputs": [],
   "source": [
    "def split_text(text): return text.split()\n",
    "orig_df['words'] = orig_df[0].apply(split_text)\n",
    "df=orig_df.drop(columns=0)"
   ]
  },
  {
   "cell_type": "code",
   "execution_count": 6,
   "id": "cfd740f9",
   "metadata": {},
   "outputs": [],
   "source": [
    "segmenter = Segmenter()\n",
    "morph_vocab = MorphVocab()\n",
    "emb = NewsEmbedding()\n",
    "morph_tagger = NewsMorphTagger(emb)"
   ]
  },
  {
   "cell_type": "code",
   "execution_count": 7,
   "id": "7d1594fa",
   "metadata": {},
   "outputs": [],
   "source": [
    "def lemmatize_words(words):\n",
    "    doc = Doc(' '.join(words))\n",
    "    doc.segment(segmenter)\n",
    "    doc.tag_morph(morph_tagger)\n",
    "    for token in doc.tokens:\n",
    "        token.lemmatize(morph_vocab)\n",
    "    return [token.lemma for token in doc.tokens]"
   ]
  },
  {
   "cell_type": "code",
   "execution_count": 8,
   "id": "2a089425",
   "metadata": {},
   "outputs": [],
   "source": [
    "df['lemmatized_words'] = df['words'].apply(lemmatize_words)"
   ]
  },
  {
   "cell_type": "code",
   "execution_count": 9,
   "id": "c83b0946",
   "metadata": {},
   "outputs": [],
   "source": [
    "STOP = {\n",
    "    'в', 'на', 'с', 'по', 'к', 'из', 'у', 'от', 'до',\n",
    "    'за', 'для', 'о', 'об', 'со', 'во', 'не', 'ни', 'под',\n",
    "    'над', 'перед', 'при', 'через', 'между', \"что\", \"или\", '.', 'и'\n",
    "}"
   ]
  },
  {
   "cell_type": "code",
   "execution_count": 10,
   "id": "a83ebbfe",
   "metadata": {},
   "outputs": [],
   "source": [
    "def word_remover(words, stop_words): return [word for word in words if word not in stop_words]\n",
    "\n",
    "df['filtered_words'] = df['lemmatized_words'].apply(lambda words: word_remover(words, STOP))"
   ]
  },
  {
   "cell_type": "code",
   "execution_count": 11,
   "id": "bd67c143",
   "metadata": {},
   "outputs": [],
   "source": [
    "df.to_csv('after_lemma.csv', index=False, encoding='utf-8')"
   ]
  },
  {
   "cell_type": "markdown",
   "id": "0dc43989",
   "metadata": {},
   "source": [
    "# Разметка"
   ]
  },
  {
   "cell_type": "code",
   "execution_count": 12,
   "id": "a525ad8a",
   "metadata": {},
   "outputs": [],
   "source": [
    "data = pd.read_csv('after_lemma.csv')"
   ]
  },
  {
   "cell_type": "code",
   "execution_count": 13,
   "id": "558e98b9",
   "metadata": {},
   "outputs": [],
   "source": [
    "original_data = data['filtered_words']"
   ]
  },
  {
   "cell_type": "code",
   "execution_count": null,
   "id": "958c6cc9",
   "metadata": {},
   "outputs": [],
   "source": [
    "# Векторизация (без предобработки)\n",
    "vectorizer = TfidfVectorizer()\n",
    "X = vectorizer.fit_transform(original_data)\n",
    "\n",
    "# Поиск похожих пар\n",
    "threshold = 0.4\n",
    "similar_pairs = []\n",
    "for i in range(len(original_data)):\n",
    "    for j in range(i+1, len(original_data)):\n",
    "        sim = cosine_similarity(X[i], X[j])[0][0]\n",
    "        if sim > threshold:\n",
    "            similar_pairs.append({\n",
    "                'ID_1': i,\n",
    "                'ID_2': j,\n",
    "                'Сходство': round(sim, 2),\n",
    "                'Текст_1': original_data[i],\n",
    "                'Текст_2': original_data[j]\n",
    "            })"
   ]
  },
  {
   "cell_type": "code",
   "execution_count": 15,
   "id": "d14dcfb0",
   "metadata": {},
   "outputs": [],
   "source": [
    "output_data = []\n",
    "for idx, text in enumerate(original_data):\n",
    "\n",
    "    related = []\n",
    "    for pair in similar_pairs:\n",
    "        if pair['ID_1'] == idx or pair['ID_2'] == idx:\n",
    "            related_id = pair['ID_2'] if pair['ID_1'] == idx else pair['ID_1']\n",
    "            related.append(f\"{related_id}: {pair['Текст_2'] if pair['ID_1'] == idx else pair['Текст_1']} (сходство: {pair['Сходство']})\")\n",
    "    \n",
    "    output_data.append({\n",
    "        'ID': idx,\n",
    "        'Исходное предложение': text,\n",
    "        'Похожие предложения': \"; \".join(related) if related else \"Нет\"\n",
    "    })\n",
    "\n",
    "df = pd.DataFrame(similar_pairs)\n",
    "df.to_csv('result.csv', index=False, encoding='utf-8')"
   ]
  },
  {
   "cell_type": "code",
   "execution_count": 16,
   "id": "665b9eae",
   "metadata": {},
   "outputs": [
    {
     "data": {
      "image/png": "[encoded data removed]",
      "text/plain": [
       "<Figure size 640x480 with 1 Axes>"
      ]
     },
     "metadata": {},
     "output_type": "display_data"
    }
   ],
   "source": [
    "import matplotlib.pyplot as plt\n",
    "\n",
    "similarities = [pair['Сходство'] for pair in similar_pairs]\n",
    "\n",
    "plt.hist(similarities, bins=20, edgecolor='black')\n",
    "plt.xlabel('Сходство')\n",
    "plt.ylabel('Частота')\n",
    "plt.title('Распределение сходства между текстами')\n",
    "plt.show()"
   ]
  },
  {
   "cell_type": "markdown",
   "id": "ec302abc",
   "metadata": {},
   "source": [
    "# Обучение"
   ]
  },
  {
   "cell_type": "code",
   "execution_count": 17,
   "id": "cf81ce14",
   "metadata": {},
   "outputs": [],
   "source": [
    "data = pd.read_csv('result.csv')\n",
    "texts1 = data['Текст_1'].values\n",
    "texts2 = data['Текст_2'].values\n",
    "targets = data['Сходство'].values"
   ]
  },
  {
   "cell_type": "code",
   "execution_count": 18,
   "id": "fdcf6098",
   "metadata": {},
   "outputs": [],
   "source": [
    "def convert_to_class(value):\n",
    "    if value < 0.3:\n",
    "        return 0\n",
    "    elif value < 0.7:\n",
    "        return 1\n",
    "    else:\n",
    "        return 2\n"
   ]
  },
  {
   "cell_type": "code",
   "execution_count": 19,
   "id": "aa569827",
   "metadata": {},
   "outputs": [],
   "source": [
    "class_targets = np.array([convert_to_class(v) for v in targets])\n",
    "\n",
    "tfidf = TfidfVectorizer(max_features=5000)\n",
    "X1 = tfidf.fit_transform(texts1).toarray()\n",
    "X2 = tfidf.transform(texts2).toarray()"
   ]
  },
  {
   "cell_type": "code",
   "execution_count": 20,
   "id": "0529727f",
   "metadata": {},
   "outputs": [],
   "source": [
    "def create_features(text1, text2, emb1, emb2):\n",
    "    words1 = text1.split()\n",
    "    words2 = text2.split()\n",
    "    common_words = set(words1) & set(words2)\n",
    "    features = [\n",
    "        np.dot(emb1, emb2),\n",
    "        len(common_words) / (len(set(words1) | set(words2)) + 1e-6),\n",
    "        abs(len(words1) - len(words2)),\n",
    "        (len(words1) + len(words2)) / 2,\n",
    "        len(words1),\n",
    "        len(words2),\n",
    "        len(common_words)\n",
    "    ]\n",
    "    return np.array(features)\n"
   ]
  },
  {
   "cell_type": "code",
   "execution_count": 21,
   "id": "202b892d",
   "metadata": {},
   "outputs": [],
   "source": [
    "X = np.array([create_features(t1, t2, e1, e2) for t1, t2, e1, e2 in zip(texts1, texts2, X1, X2)])\n",
    "\n",
    "unique_classes, counts = np.unique(class_targets, return_counts=True)\n",
    "valid_classes = [cls for cls, count in zip(unique_classes, counts) if count >= 10]\n",
    "mask = np.isin(class_targets, valid_classes)\n",
    "X = X[mask]\n",
    "class_targets = class_targets[mask]"
   ]
  },
  {
   "cell_type": "code",
   "execution_count": 22,
   "id": "4e1c9b95",
   "metadata": {},
   "outputs": [],
   "source": [
    "X_train, X_temp, y_train, y_temp = train_test_split(X, class_targets, test_size=0.4, random_state=42, stratify=class_targets)\n",
    "X_val, X_test, y_val, y_test = train_test_split(X_temp, y_temp, test_size=0.5, random_state=42, stratify=y_temp)"
   ]
  },
  {
   "cell_type": "code",
   "execution_count": null,
   "id": "56859d51",
   "metadata": {},
   "outputs": [
    {
     "name": "stdout",
     "output_type": "stream",
     "text": [
      "0:\tlearn: 0.9816984\ttest: 1.0000000\tbest: 1.0000000 (0)\ttotal: 56.4ms\tremaining: 56.3s\n",
      "100:\tlearn: 0.9852941\ttest: 1.0000000\tbest: 1.0000000 (0)\ttotal: 75.3ms\tremaining: 670ms\n",
      "Stopped by overfitting detector  (100 iterations wait)\n",
      "\n",
      "bestTest = 1\n",
      "bestIteration = 0\n",
      "\n",
      "Shrink model to first 1 iterations.\n"
     ]
    },
    {
     "data": {
      "text/plain": [
       "<catboost.core.CatBoostClassifier at 0x351552e50>"
      ]
     },
     "execution_count": 23,
     "metadata": {},
     "output_type": "execute_result"
    }
   ],
   "source": [
    "model_params = {\n",
    "    \"iterations\": 1000,\n",
    "    \"learning_rate\": 0.03,\n",
    "    \"depth\": 4,\n",
    "    \"loss_function\": \"MultiClass\",\n",
    "    \"eval_metric\": \"TotalF1\",\n",
    "    \"task_type\": \"CPU\",\n",
    "    \"early_stopping_rounds\": 100,\n",
    "    \"verbose\": 100\n",
    "}\n",
    "\n",
    "model = CatBoostClassifier(**model_params)\n",
    "model.fit(X_train, y_train, eval_set=(X_val, y_val), use_best_model=True)"
   ]
  },
  {
   "cell_type": "code",
   "execution_count": 24,
   "id": "87d14a91",
   "metadata": {},
   "outputs": [
    {
     "name": "stdout",
     "output_type": "stream",
     "text": [
      "\n",
      "=== Отчет по метрикам ===\n",
      "              precision    recall  f1-score   support\n",
      "\n",
      "           1     0.9867    0.9737    0.9801        76\n",
      "           2     0.8750    0.9333    0.9032        15\n",
      "\n",
      "    accuracy                         0.9670        91\n",
      "   macro avg     0.9308    0.9535    0.9417        91\n",
      "weighted avg     0.9683    0.9670    0.9675        91\n",
      "\n"
     ]
    }
   ],
   "source": [
    "y_pred = model.predict(X_test)\n",
    "print(\"\\n=== Отчет по метрикам ===\")\n",
    "print(classification_report(y_test, y_pred, digits=4))"
   ]
  },
  {
   "cell_type": "code",
   "execution_count": null,
   "id": "6a3e4777",
   "metadata": {},
   "outputs": [],
   "source": []
  }
 ],
 "metadata": {
  "kernelspec": {
   "display_name": "Python 3",
   "language": "python",
   "name": "python3"
  },
  "language_info": {
   "codemirror_mode": {
    "name": "ipython",
    "version": 3
   },
   "file_extension": ".py",
   "mimetype": "text/x-python",
   "name": "python",
   "nbconvert_exporter": "python",
   "pygments_lexer": "ipython3",
   "version": "3.9.6"
  }
 },
 "nbformat": 4,
 "nbformat_minor": 5
}
